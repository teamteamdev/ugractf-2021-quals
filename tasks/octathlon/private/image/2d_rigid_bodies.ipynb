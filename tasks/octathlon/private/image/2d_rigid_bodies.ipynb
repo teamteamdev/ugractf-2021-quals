version https://git-lfs.github.com/spec/v1
oid sha256:d8ef591e52aa4d54ecaee5b0f637c045ccbd3e636c4813a98ebab4b5b7039cc4
size 73529
